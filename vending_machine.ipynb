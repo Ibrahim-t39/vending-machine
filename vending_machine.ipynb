{
 "cells": [
  {
   "cell_type": "markdown",
   "metadata": {},
   "source": [
    "### DESIGN A VENDING MACHINE\n",
    "\n",
    "- To start with, a vending machine usually does the following:\n",
    "    - Contains products for sale.\n",
    "    - Displays the products available.\n",
    "    - Accepts some form of payment/money from a user.\n",
    "    - Allows a user to make a selection.\n",
    "    - Allows this transaction to take place if the money inserted was enough.\n",
    "    - Dispenses the product.\n",
    "    - Calculates change and returns it to the user.\n",
    "    - Restocks products to ensure selling continues."
   ]
  },
  {
   "cell_type": "markdown",
   "metadata": {},
   "source": [
    "### OBJECTS\n",
    "- Vending Machine.\n",
    "- Product.\n",
    "- Money."
   ]
  },
  {
   "cell_type": "markdown",
   "metadata": {},
   "source": [
    "### VENDING MACHINE\n",
    "\n",
    "#### ATTRIBUTES\n",
    "- products, which lists all the products.\n",
    "- balance.\n",
    "- inventory.\n",
    "\n",
    "#### METHODS\n",
    "- display_products(), this gets all the products.\n",
    "- accept_money(amount), this accepts the method of payment from the customer.\n",
    "- make_selection(product_id), this allows the user to make a choice.\n",
    "- dispense_product(), this gives the user the product.\n",
    "- give_change(), if the customer gave surplus, we give them change.\n",
    "- restock(product, quantity), Adds more to inventory."
   ]
  },
  {
   "cell_type": "markdown",
   "metadata": {},
   "source": [
    "#### PRODUCT\n",
    "\n",
    "#### ATTRIBUTES\n",
    " - product_id, unique to each product.\n",
    " - name\n",
    " - price\n",
    " - quantity"
   ]
  },
  {
   "cell_type": "markdown",
   "metadata": {},
   "source": [
    "#### MONEY\n",
    "\n",
    "#### ATTRIBUTES\n",
    "- amount\n",
    "\n",
    "#### METHODS\n",
    "- calculate_change(product_price)\n",
    "- accept_money(amount)"
   ]
  },
  {
   "cell_type": "code",
   "execution_count": 9,
   "metadata": {},
   "outputs": [],
   "source": [
    "class Product:\n",
    "    def __init__(self, product_id, name, price, quantity):\n",
    "        self.product_id = product_id\n",
    "        self.name = name\n",
    "        self.price = price\n",
    "        self.quantity = quantity\n",
    "\n",
    "class VendingMachine:\n",
    "    def __init__(self):\n",
    "        self.products = []\n",
    "        self.balance = 0\n",
    "        \n",
    "    def restock(self, product):\n",
    "        self.products.append(product)\n",
    "        \n",
    "    def display_products(self):\n",
    "        for product in self.products:\n",
    "            print(f\"{product.product_id}: {product.name} - ${product.price} (Qty: {product.quantity})\")\n",
    "    \n",
    "    def accept_money(self, amount):\n",
    "        self.balance += amount\n",
    "        print(f\"Amount inserted: ${amount}. Current Balance: {self.balance}\")\n",
    "    \n",
    "    def make_selection(self, product_id):\n",
    "        for product in self.products:\n",
    "            if product.product_id == product_id:\n",
    "                if self.balance >= product.price and product.quantity > 0:\n",
    "                    self.dispense_product(product)\n",
    "                elif product.quantity <= 0:\n",
    "                    print(\"Sorry, this product is out of stock.\")\n",
    "                else:\n",
    "                    print(f\"Insufficient funds. Please insert ${product.price - self.balance} more.\")\n",
    "                return\n",
    "        print(\"Product out of stock or unavailable!\")\n",
    "        \n",
    "    def dispense_product(self, product):\n",
    "        product.quantity -= 1\n",
    "        self.balance -= product.price\n",
    "        print(f\"Dispensing {product.name}, please wait.\")\n",
    "        self.give_change()\n",
    "        \n",
    "    def give_change(self):\n",
    "        if self.balance > 0:\n",
    "            print(f\"Returning change: ${self.balance}.\")\n",
    "            self.balance = 0"
   ]
  },
  {
   "cell_type": "code",
   "execution_count": 10,
   "metadata": {},
   "outputs": [],
   "source": [
    "fanta = Product(1, \"Fanta\", 3.99, 10)\n",
    "hi_c = Product(2, \"Hi-C\", 2.99, 10)\n",
    "dr_pepper = Product(3, \"Dr-Pepper\", 3.50, 10)"
   ]
  },
  {
   "cell_type": "code",
   "execution_count": 11,
   "metadata": {},
   "outputs": [],
   "source": [
    "vending_machine = VendingMachine()\n",
    "vending_machine.restock(fanta)\n",
    "vending_machine.restock(hi_c)\n",
    "vending_machine.restock(dr_pepper)"
   ]
  },
  {
   "cell_type": "code",
   "execution_count": 12,
   "metadata": {},
   "outputs": [
    {
     "name": "stdout",
     "output_type": "stream",
     "text": [
      "1: Fanta - $3.99 (Qty: 10)\n",
      "2: Hi-C - $2.99 (Qty: 10)\n",
      "3: Dr-Pepper - $3.5 (Qty: 10)\n"
     ]
    }
   ],
   "source": [
    "vending_machine.display_products()"
   ]
  },
  {
   "cell_type": "code",
   "execution_count": 14,
   "metadata": {},
   "outputs": [
    {
     "name": "stdout",
     "output_type": "stream",
     "text": [
      "Amount inserted: $5. Current Balance: 10\n"
     ]
    }
   ],
   "source": [
    "vending_machine.accept_money(5)\n"
   ]
  },
  {
   "cell_type": "code",
   "execution_count": 15,
   "metadata": {},
   "outputs": [
    {
     "name": "stdout",
     "output_type": "stream",
     "text": [
      "Dispensing Hi-C, please wait.\n",
      "Returning change: $7.01.\n"
     ]
    }
   ],
   "source": [
    "vending_machine.make_selection(2)"
   ]
  },
  {
   "cell_type": "code",
   "execution_count": 22,
   "metadata": {},
   "outputs": [
    {
     "name": "stdout",
     "output_type": "stream",
     "text": [
      "Amount inserted: $30. Current Balance: 30\n",
      "Dispensing Dr-Pepper, please wait.\n",
      "Returning change: $26.5.\n"
     ]
    }
   ],
   "source": [
    "vending_machine.accept_money(30)\n",
    "vending_machine.make_selection(3)"
   ]
  },
  {
   "cell_type": "code",
   "execution_count": 24,
   "metadata": {},
   "outputs": [
    {
     "name": "stdout",
     "output_type": "stream",
     "text": [
      "Insufficient funds. Please insert $2.99 more.\n",
      "Amount inserted: $2. Current Balance: 2\n"
     ]
    }
   ],
   "source": [
    "vending_machine.make_selection(2)\n",
    "vending_machine.accept_money(2)"
   ]
  }
 ],
 "metadata": {
  "kernelspec": {
   "display_name": "base",
   "language": "python",
   "name": "python3"
  },
  "language_info": {
   "codemirror_mode": {
    "name": "ipython",
    "version": 3
   },
   "file_extension": ".py",
   "mimetype": "text/x-python",
   "name": "python",
   "nbconvert_exporter": "python",
   "pygments_lexer": "ipython3",
   "version": "3.12.4"
  }
 },
 "nbformat": 4,
 "nbformat_minor": 2
}
